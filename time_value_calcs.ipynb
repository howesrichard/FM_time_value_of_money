{
 "cells": [
  {
   "cell_type": "markdown",
   "metadata": {},
   "source": [
    "# Time Value of Money Calculations\n",
    "This workbook is for showcasing the various Financial Maths 101 formulas\n",
    "We will calculate PVs and Future Values for single cashflows and annuities\n",
    "We will calculate IRRs\n",
    "\n",
    "We might also do some fun things with compounding periods"
   ]
  },
  {
   "cell_type": "code",
   "execution_count": 6,
   "metadata": {},
   "outputs": [
    {
     "name": "stdout",
     "output_type": "stream",
     "text": [
      "The present value of the cash flow is:  704,960.54\n"
     ]
    }
   ],
   "source": [
    "# PV of a single cashflow\n",
    "\n",
    "cash_flow = 1000000\n",
    "discount_rate = .06\n",
    "periods = 6\n",
    "\n",
    "PV = cash_flow / (1 + discount_rate)**periods\n",
    "\n",
    "print(\"The present value of the cash flow is: \", f\"{PV:,.2f}\")"
   ]
  }
 ],
 "metadata": {
  "kernelspec": {
   "display_name": "Python 3",
   "language": "python",
   "name": "python3"
  },
  "language_info": {
   "codemirror_mode": {
    "name": "ipython",
    "version": 3
   },
   "file_extension": ".py",
   "mimetype": "text/x-python",
   "name": "python",
   "nbconvert_exporter": "python",
   "pygments_lexer": "ipython3",
   "version": "3.12.1"
  }
 },
 "nbformat": 4,
 "nbformat_minor": 2
}
